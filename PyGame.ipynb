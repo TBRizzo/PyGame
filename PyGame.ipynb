{
 "cells": [
  {
   "cell_type": "code",
   "execution_count": 7,
   "id": "c6300296-025c-49c1-bfc2-6dbfc569c22d",
   "metadata": {},
   "outputs": [
    {
     "name": "stdout",
     "output_type": "stream",
     "text": [
      "What a shame! Until next time!\n"
     ]
    }
   ],
   "source": [
    "# rock beats: scissors / lizard\n",
    "# paper beats: rock / spock\n",
    "# scissors beats: paper / lizard\n",
    "# lizard beats: paper / spock\n",
    "# spock beats: rock / scissors\n",
    "\n",
    "from IPython.display import clear_output\n",
    "import random as rd\n",
    "\n",
    "#list of all possible symbols\n",
    "symbols = ['rock', 'paper', 'scissors', 'lizard', 'spock']\n",
    "\n",
    "#dictionaries in which keys beat values\n",
    "rules = {'rock':['scissors','lizard'], 'paper':['rock','spock'], 'scissors':['paper','lizard'],\n",
    "         'lizard':['paper','spock'], 'spock':['rock','scissors']}\n",
    "\n",
    "#function for the game itself\n",
    "def game():\n",
    "    play = 0\n",
    "    while play == 0:\n",
    "        play = input('''Greetings, this is Sheldon-Bot, shall we play rock, paper, scissors, lizard, spock?\n",
    "The rules are as follows:\n",
    "Scissors cuts paper, paper covers rock, \n",
    "rock crushes lizard, lizard poisons Spock, \n",
    "Spock smashes scissors, scissors decapitates lizard, \n",
    "lizard eats paper, paper disproves Spock, \n",
    "Spock vaporizes rock, and as it always has, rock crushes scissors.\n",
    "Make your choice: ''' + str(symbols))\n",
    "        if play in symbols:\n",
    "            sheldon = rd.choice(symbols)\n",
    "            print(' ')\n",
    "            print(f\"Você escolheu '{play.capitalize()}' e eu escolhi '{sheldon.capitalize()}'.\")\n",
    "            if play == sheldon: #same choice = draw\n",
    "                print(\"We have a draw!\\n\")\n",
    "            elif sheldon in rules[play]:  #if the bot's choice is a value of the key chosen by the user, user wins\n",
    "                print(' ')\n",
    "                print(\"You won, I bet you cheated somehow...\\n\") \n",
    "            else:          #in any other situation, the bot wins\n",
    "                print(' ')\n",
    "                print(\"I won! No one can beat me!!\\n\")\n",
    "        else:\n",
    "            clear_output() #clears the menu before restarting the game\n",
    "            print(' ')\n",
    "            print(\"Nice choice... BAZINGA! You typed it wrong or chose an item that is not in the list, shall we try again?\\n\")\n",
    "            play = 0  #goes back to the start of the game\n",
    "            \n",
    "def menu():  #starting menu (gives the option of whether or not to play)\n",
    "    loop = True\n",
    "    while loop == True:\n",
    "        print('Choose 1 or 2')\n",
    "        print('(1) Jogar Rock, Paper, Scissors, Lizard, Spock')\n",
    "        print('(2) Stop playing')\n",
    "        choice = input('What is your choice?: ').lower()\n",
    "        if choice == '1':  #runs the game\n",
    "            clear_output()\n",
    "            game()\n",
    "        elif choice == '2': #\"closes\" the code\n",
    "            clear_output()\n",
    "            print(\"What a shame! Until next time!\")\n",
    "            loop = False\n",
    "        else:\n",
    "            print(f'You typed \"{choice}\", try again')\n",
    "menu()"
   ]
  }
 ],
 "metadata": {
  "kernelspec": {
   "display_name": "Python 3 (ipykernel)",
   "language": "python",
   "name": "python3"
  },
  "language_info": {
   "codemirror_mode": {
    "name": "ipython",
    "version": 3
   },
   "file_extension": ".py",
   "mimetype": "text/x-python",
   "name": "python",
   "nbconvert_exporter": "python",
   "pygments_lexer": "ipython3",
   "version": "3.9.12"
  }
 },
 "nbformat": 4,
 "nbformat_minor": 5
}
